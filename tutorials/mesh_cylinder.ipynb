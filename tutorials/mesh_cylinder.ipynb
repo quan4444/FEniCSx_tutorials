{
 "cells": [
  {
   "cell_type": "markdown",
   "id": "7dd9531f",
   "metadata": {},
   "source": [
    "# Meshing a Cylinder with Gmsh"
   ]
  },
  {
   "cell_type": "markdown",
   "id": "f7efbae2",
   "metadata": {},
   "source": [
    "## Mesh the cylinder with all points and cells"
   ]
  },
  {
   "cell_type": "code",
   "execution_count": null,
   "id": "c731d3c3",
   "metadata": {},
   "outputs": [],
   "source": [
    "import gmsh\n",
    "import warnings\n",
    "import numpy as np\n",
    "\n",
    "warnings.filterwarnings(\"ignore\")\n",
    "gmsh.initialize() # initializing the gmsh interface\n",
    "\n",
    "# parameters for a cylinder\n",
    "x0=[0.0,0.0,0.0] # initial point of the cylinder (x,y,z coordinates)\n",
    "axis=[50.8,0.0,0.0] # extension of the cylinder aka change in the x,y,z direction (dx,dy,dz)\n",
    "radius=12.7 # radius of he cylinder\n",
    "max_char_len=2.0 # maximum characteristic length of the elements\n",
    "\n",
    "# add the cylinder\n",
    "gmsh.model.occ.add_cylinder(x=x0[0],y=x0[1],z=x0[2],dx=axis[0],dy=axis[1],dz=axis[2],r=radius)\n",
    "\n",
    "all_points = gmsh.model.occ.getEntities(0) # obtain all the points in the mesh\n",
    "gmsh.model.occ.mesh.setSize(dimTags=all_points,size=max_char_len) # set the characteristic lengh of the mesh\n",
    "gmsh.model.occ.synchronize() # internal gmsh code to make the meshing works\n",
    "gmsh.model.mesh.generate(3) # generate the mesh in 3D\n",
    "\n",
    "\n",
    "gmsh.write(\"mesh/cylinder_long.msh\") # save the mesh\n",
    "gmsh.finalize() # close gmsh"
   ]
  },
  {
   "cell_type": "markdown",
   "id": "1fc9fe65",
   "metadata": {},
   "source": [
    "## Mesh the cylinder facets and label the facets (to apply boundary conditions later)"
   ]
  },
  {
   "cell_type": "code",
   "execution_count": null,
   "id": "02eac68b",
   "metadata": {},
   "outputs": [],
   "source": [
    "import gmsh\n",
    "import warnings\n",
    "import numpy as np\n",
    "\n",
    "warnings.filterwarnings(\"ignore\")\n",
    "gmsh.initialize() # initializing the gmsh interface\n",
    "\n",
    "# parameters for a cylinder\n",
    "x0=[0.0,0.0,0.0] # initial point of the cylinder (x,y,z coordinates)\n",
    "axis=[50.8,0.0,0.0] # extension of the cylinder aka change in the x,y,z direction (dx,dy,dz)\n",
    "radius=12.7 # radius of he cylinder\n",
    "max_char_len=2.0 # maximum characteristic length of the elements\n",
    "\n",
    "# add the cylinder\n",
    "gmsh.model.occ.add_cylinder(x=x0[0],y=x0[1],z=x0[2],dx=axis[0],dy=axis[1],dz=axis[2],r=radius)\n",
    "\n",
    "all_points = gmsh.model.occ.getEntities(0) # obtain all the points in the mesh\n",
    "surfaces = gmsh.model.occ.getEntities(dim=2) # obtain all the facet entities\n",
    "gmsh.model.occ.mesh.setSize(dimTags=all_points,size=max_char_len) # set the characteristic lengh of the mesh\n",
    "gmsh.model.occ.synchronize() # internal gmsh code to make the meshing works\n",
    "\n",
    "side_marker, top_marker, bot_marker = 7,101,102 # determine facet indexing\n",
    "walls = []\n",
    "obstacles = []\n",
    "for surface in surfaces:\n",
    "    com = gmsh.model.occ.getCenterOfMass(surface[0], surface[1])\n",
    "\n",
    "    # if the x position of the facet is near 50.8, assign top index to facet\n",
    "    if np.allclose(com[0], 50.8): \n",
    "        gmsh.model.addPhysicalGroup(surface[0], [surface[1]], top_marker) \n",
    "    # if the x position of the facet is near 0.0, assign bot index to facet\n",
    "    elif np.allclose(com[0], 0):\n",
    "        gmsh.model.addPhysicalGroup(surface[0], [surface[1]], bot_marker)\n",
    "    # else, assign side index to facet\n",
    "    else:\n",
    "        gmsh.model.addPhysicalGroup(surface[0], [surface[1]], side_marker)\n",
    "\n",
    "gmsh.model.mesh.generate(3) # generate mesh in 3D\n",
    "\n",
    "gmsh.write(\"mesh/facet_cylinder_long.msh\") # save mesh\n",
    "gmsh.finalize() # close gmsh"
   ]
  },
  {
   "cell_type": "markdown",
   "id": "bcf6840a",
   "metadata": {},
   "source": [
    "## Convert .msh file type to .xdmf file type for compatibility with FEniCSx"
   ]
  },
  {
   "cell_type": "code",
   "execution_count": null,
   "id": "1d0aa4a8",
   "metadata": {},
   "outputs": [],
   "source": [
    "\n",
    "\"\"\"\n",
    "Created on Fri Aug 11 16:37:26 2023\n",
    "\n",
    "@author: eric\n",
    "\"\"\"\n",
    "\n",
    "# Change the name of the gmsh file below  stored in the folder meshes from 3d_hip_v2.msh\n",
    "# to the file  *.gmsh that you wish to convert. Accordingly, also change the names \n",
    "# of the output files  facet_3D_hip_v2.xdmf and  3D_hip_v2.xdmf.\n",
    "\n",
    "\"\"\"\n",
    "Step 1. convert the mesh to.xdmf  format using meshio\n",
    "\"\"\"\n",
    "import meshio\n",
    "mesh_from_file = meshio.read(\"mesh/cylinder_long.msh\")\n",
    "facet_from_file = meshio.read(\"mesh/facet_cylinder_long.msh\")\n",
    "\n",
    "\n",
    "\"\"\"\n",
    "Step. 2  Extract cells and boundary data.\n",
    "\n",
    "Now that we have created the mesh, we need to extract the cells \n",
    "and physical data. We need to create a separate file for the \n",
    "facets (lines),  which we will use when we define boundary \n",
    "conditions in  Fenics. We do this  with the following convenience \n",
    "function. Note that as we would like a  2 dimensional mesh, we need to \n",
    "remove the z-values in the mesh coordinates, if any.\n",
    "\"\"\"\n",
    "\n",
    "def create_mesh(mesh, cell_type, prune_z=False):\n",
    "    cells = mesh.get_cells_type(cell_type)\n",
    "    if cell_type==\"triangle\":\n",
    "        cell_data = mesh.get_cell_data(\"gmsh:physical\", cell_type)\n",
    "    elif cell_type==\"tetra\":\n",
    "        cell_data = mesh.get_cell_data(\"gmsh:geometrical\", cell_type)\n",
    "    points = mesh.points[:,:2] if prune_z else mesh.points\n",
    "    out_mesh = meshio.Mesh(points=points, cells={cell_type: cells},\\\n",
    "                           cell_data={\"name_to_read\":[cell_data]})\n",
    "    return out_mesh\n",
    "\n",
    "\"\"\"\n",
    "Step 3.\n",
    "With this function in hand, we can save the facet line mesh \n",
    "and the domain triangle  mesh in `XDMF` format \n",
    "\"\"\"\n",
    "\n",
    "triangle_mesh = create_mesh(facet_from_file, \"triangle\", prune_z=False)\n",
    "meshio.write(\"mesh/facet_cylinder_long.xdmf\", triangle_mesh)\n",
    "\n",
    "tetra_mesh = create_mesh(mesh_from_file, \"tetra\", prune_z=False)\n",
    "meshio.write(\"mesh/cylinder_long.xdmf\", tetra_mesh)"
   ]
  }
 ],
 "metadata": {
  "kernelspec": {
   "display_name": "fenicsx-test",
   "language": "python",
   "name": "python3"
  },
  "language_info": {
   "codemirror_mode": {
    "name": "ipython",
    "version": 3
   },
   "file_extension": ".py",
   "mimetype": "text/x-python",
   "name": "python",
   "nbconvert_exporter": "python",
   "pygments_lexer": "ipython3",
   "version": "3.13.3"
  }
 },
 "nbformat": 4,
 "nbformat_minor": 5
}
